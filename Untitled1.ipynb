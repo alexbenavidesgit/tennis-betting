{
 "cells": [
  {
   "cell_type": "code",
   "execution_count": 3,
   "id": "9f660432",
   "metadata": {},
   "outputs": [
    {
     "name": "stdout",
     "output_type": "stream",
     "text": [
      "Jack Sock\n",
      "           Winner Name  Winner Rank\n",
      "0         Taylor Fritz         19.0\n",
      "1        Reilly Opelka         20.0\n",
      "2   Stefanos Tsitsipas          5.0\n",
      "3    Miomir Kecmanovic         48.0\n",
      "4       Cristian Garin         29.0\n",
      "5         Jason Kubler         99.0\n",
      "6     Alexander Bublik         42.0\n",
      "7           Tommy Paul         36.0\n",
      "8         Daniel Masur        237.0\n",
      "9     Dominic Stricker        241.0\n",
      "10        Michael Mmoh        242.0\n",
      "11         Denis Kudla         82.0\n",
      "12       Quentin Halys        100.0\n",
      "13        Daniel Evans         35.0\n",
      "14         Zizou Bergs        207.0\n",
      "-------------------------------\n",
      "W-L Record:29-15\n",
      "-------------------------------\n",
      "Avg. Opponent Rank (Wins): 191\n",
      "Avg. Opponent Rank (Losses): 96\n"
     ]
    }
   ],
   "source": [
    "import csv\n",
    "import pandas as pd\n",
    "\n",
    "MAINDIR = \"./\"\n",
    "\n",
    "atp2022 = pd.read_csv('Data/atp_matches_2022.csv', encoding = 'UTF-8')\n",
    "challenger2022 = pd.read_csv('Data/atp_matches_qual_chall_2022.csv', encoding = 'UTF-8')\n",
    "Futures2022 = pd.read_csv('Data/atp_matches_futures_2022.csv', encoding = 'UTF-8')\n",
    "\n",
    "\n",
    "atp2022 = pd.DataFrame(atp2022)\n",
    "challenger2022 = pd.DataFrame(challenger2022)\n",
    "futures2022 = pd.DataFrame(Futures2022)\n",
    "\n",
    "allMatches = pd.concat([atp2022, challenger2022, futures2022])\n",
    "\n",
    "player = input().title()\n",
    "\n",
    "# Collecting Wins\n",
    "resultW = allMatches.loc[allMatches[\"winner_name\"] == player, [\"loser_name\", \"loser_rank\"]]\n",
    "resultW = resultW.reset_index(drop = True)\n",
    "resultW.columns = resultW.columns.str.replace('_', ' ')\n",
    "resultW.columns = resultW.columns.str.title()\n",
    "resultW = pd.DataFrame(resultW)\n",
    "countW = len(resultW)\n",
    "avgOppRankW = int(resultW[\"Loser Rank\"].mean(skipna=True))\n",
    "\n",
    "\n",
    "# Collecting Losses\n",
    "resultL = allMatches.loc[allMatches[\"loser_name\"] == player, [\"winner_name\", \"winner_rank\"]]\n",
    "resultL = resultL.reset_index(drop = True)\n",
    "resultL.columns = resultL.columns.str.replace('_', ' ')\n",
    "resultL.columns = resultL.columns.str.title()\n",
    "resultL = pd.DataFrame(resultL)\n",
    "countL = len(resultL)\n",
    "avgOppRankL = int(resultL[\"Winner Rank\"].mean(skipna=True))\n",
    "\n",
    "\n",
    "record = 'W-L Record' + ':' + str(countW) + '-' + str(countL)\n",
    "\n",
    "print(resultL)\n",
    "print(\"-------------------------------\")\n",
    "print(record)\n",
    "print(\"-------------------------------\")\n",
    "print(\"Avg. Opponent Rank (Wins):\" + \" \" + str(avgOppRankW))\n",
    "print(\"Avg. Opponent Rank (Losses):\" + \" \" + str(avgOppRankL))\n",
    "\n"
   ]
  },
  {
   "cell_type": "code",
   "execution_count": null,
   "id": "eeb0e66b",
   "metadata": {},
   "outputs": [],
   "source": []
  }
 ],
 "metadata": {
  "kernelspec": {
   "display_name": "Python 3 (ipykernel)",
   "language": "python",
   "name": "python3"
  },
  "language_info": {
   "codemirror_mode": {
    "name": "ipython",
    "version": 3
   },
   "file_extension": ".py",
   "mimetype": "text/x-python",
   "name": "python",
   "nbconvert_exporter": "python",
   "pygments_lexer": "ipython3",
   "version": "3.9.13"
  }
 },
 "nbformat": 4,
 "nbformat_minor": 5
}
