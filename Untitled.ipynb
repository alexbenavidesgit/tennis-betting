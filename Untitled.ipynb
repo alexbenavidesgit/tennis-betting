{
 "cells": [
  {
   "cell_type": "code",
   "execution_count": null,
   "id": "f542b516",
   "metadata": {},
   "outputs": [],
   "source": [
    "import csv\n",
    "import pandas as pd\n",
    "import glob\n",
    "\n",
    "MAINDIR = \"./\"\n",
    "for f in glob('Data/*_2022.csv'):\n",
    "    list2022 = pd.read_csv(f)\n",
    "    \n",
    "\n",
    "    list2022 = pd.read_csv('Data/*.csv', encoding = 'UTF-8')\n",
    "    atp2022 = pd.read_csv('Data/atp_matches_2022.csv', encoding = 'UTF-8')\n",
    "    challenger2022 = pd.read_csv('Data/atp_matches_qual_chall_2022.csv', encoding = 'UTF-8')\n",
    "    Futures2022 = pd.read_csv('Data/atp_matches_futures_2022.csv', encoding = 'UTF-8')\n",
    "\n",
    "    # list2022df = pd.DataFrame(list2022)\n",
    "    atp2022 = pd.DataFrame(atp2022)\n",
    "    challenger2022 = pd.DataFrame(challenger2022)\n",
    "    futures2022 = pd.DataFrame(Futures2022)\n",
    "\n",
    "    allMatches = pd.concat([atp2022, challenger2022, futures2022])\n",
    "\n",
    "    player = input().title()\n",
    "\n",
    "    result = allMatches.loc[allMatches[\"winner_name\"] == player, [\"loser_name\", \"loser_rank\"]]\n",
    "    result = result.reset_index(drop = True)\n",
    "    result.columns = result.columns.str.replace('_', ' ')\n",
    "    result.columns = result.columns.str.title()\n",
    "\n",
    "\n",
    "    pd.DataFrame(result)\n"
   ]
  },
  {
   "cell_type": "code",
   "execution_count": null,
   "id": "04bb060c",
   "metadata": {},
   "outputs": [],
   "source": [
    "ls ./Data/"
   ]
  },
  {
   "cell_type": "code",
   "execution_count": null,
   "id": "a2d19800",
   "metadata": {},
   "outputs": [],
   "source": [
    "import csv\n",
    "import pandas as pd\n",
    "\n",
    "MAINDIR = \"./Data/\"\n",
    "\n",
    "atp2022 = pd.read_csv('atp_matches_2022.csv', encoding = 'UTF-8')\n",
    "challenger2022 = pd.read_csv('atp_matches_qual_chall_2022.csv', encoding = 'UTF-8')\n",
    "Futures2022 = pd.read_csv('atp_matches_futures_2022.csv', encoding = 'UTF-8')\n",
    "\n",
    "\n",
    "atp2022 = pd.DataFrame(atp2022)\n",
    "challenger2022 = pd.DataFrame(challenger2022)\n",
    "futures2022 = pd.DataFrame(Futures2022)\n",
    "\n",
    "allMatches = pd.concat([atp2022, challenger2022, futures2022])\n",
    "\n",
    "player = input().title()\n",
    "\n",
    "# Collecting Wins\n",
    "resultW = allMatches.loc[allMatches[\"winner_name\"] == player, [\"loser_name\", \"loser_rank\"]]\n",
    "resultW = resultW.reset_index(drop = True)\n",
    "resultW.columns = resultW.columns.str.replace('_', ' ')\n",
    "resultW.columns = resultW.columns.str.title()\n",
    "resultW = pd.DataFrame(resultW)\n",
    "countW = len(resultW)\n",
    "avgOppRankW = int(resultW[\"Loser Rank\"].mean(skipna=True))\n",
    "\n",
    "\n",
    "# Collecting Losses\n",
    "resultL = allMatches.loc[allMatches[\"loser_name\"] == player, [\"winner_name\", \"winner_rank\"]]\n",
    "resultL = resultL.reset_index(drop = True)\n",
    "resultL.columns = resultL.columns.str.replace('_', ' ')\n",
    "resultL.columns = resultL.columns.str.title()\n",
    "resultL = pd.DataFrame(resultL)\n",
    "countL = len(resultL)\n",
    "avgOppRankL = int(resultL[\"Winner Rank\"].mean(skipna=True))\n",
    "\n",
    "\n",
    "record = 'W-L Record' + ':' + str(countW) + '-' + str(countL)\n",
    "\n",
    "print(resultL)\n",
    "print(\"-------------------------------\")\n",
    "print(record)\n",
    "print(\"-------------------------------\")\n",
    "print(\"Avg. Opponent Rank (Wins):\" + \" \" + str(avgOppRankW))\n",
    "print(\"Avg. Opponent Rank (Losses):\" + \" \" + str(avgOppRankL))\n",
    "\n"
   ]
  },
  {
   "cell_type": "code",
   "execution_count": null,
   "id": "6272729e",
   "metadata": {},
   "outputs": [],
   "source": []
  }
 ],
 "metadata": {
  "kernelspec": {
   "display_name": "Python 3 (ipykernel)",
   "language": "python",
   "name": "python3"
  },
  "language_info": {
   "codemirror_mode": {
    "name": "ipython",
    "version": 3
   },
   "file_extension": ".py",
   "mimetype": "text/x-python",
   "name": "python",
   "nbconvert_exporter": "python",
   "pygments_lexer": "ipython3",
   "version": "3.9.13"
  }
 },
 "nbformat": 4,
 "nbformat_minor": 5
}
